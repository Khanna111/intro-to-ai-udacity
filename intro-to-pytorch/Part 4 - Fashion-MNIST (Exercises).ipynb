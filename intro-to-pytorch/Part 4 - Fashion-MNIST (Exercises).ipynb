{
 "cells": [
  {
   "cell_type": "markdown",
   "metadata": {},
   "source": [
    "# Classifying Fashion-MNIST\n",
    "\n",
    "Now it's your turn to build and train a neural network. You'll be using the [Fashion-MNIST dataset](https://github.com/zalandoresearch/fashion-mnist), a drop-in replacement for the MNIST dataset. MNIST is actually quite trivial with neural networks where you can easily achieve better than 97% accuracy. Fashion-MNIST is a set of 28x28 greyscale images of clothes. It's more complex than MNIST, so it's a better representation of the actual performance of your network, and a better representation of datasets you'll use in the real world.\n",
    "\n",
    "<img src='assets/fashion-mnist-sprite.png' width=500px>\n",
    "\n",
    "In this notebook, you'll build your own neural network. For the most part, you could just copy and paste the code from Part 3, but you wouldn't be learning. It's important for you to write the code yourself and get it to work. Feel free to consult the previous notebooks though as you work through this.\n",
    "\n",
    "First off, let's load the dataset through torchvision."
   ]
  },
  {
   "cell_type": "code",
   "execution_count": 16,
   "metadata": {},
   "outputs": [],
   "source": [
    "import torch\n",
    "from torchvision import datasets, transforms\n",
    "import helper\n",
    "# GK Import these as well\n",
    "from torch import nn\n",
    "import torch.nn.functional as F\n",
    "\n",
    "\n",
    "\n",
    "# Define a transform to normalize the data\n",
    "transform = transforms.Compose([transforms.ToTensor(),\n",
    "                                transforms.Normalize((0.5,), (0.5,))])\n",
    "# Download and load the training data\n",
    "trainset = datasets.FashionMNIST('~/.pytorch/F_MNIST_data/', download=True, train=True, transform=transform)\n",
    "trainloader = torch.utils.data.DataLoader(trainset, batch_size=64, shuffle=True)\n",
    "\n",
    "# Download and load the test data\n",
    "testset = datasets.FashionMNIST('~/.pytorch/F_MNIST_data/', download=True, train=False, transform=transform)\n",
    "testloader = torch.utils.data.DataLoader(testset, batch_size=64, shuffle=True)"
   ]
  },
  {
   "cell_type": "markdown",
   "metadata": {},
   "source": [
    "Here we can see one of the images."
   ]
  },
  {
   "cell_type": "code",
   "execution_count": 17,
   "metadata": {},
   "outputs": [
    {
     "output_type": "stream",
     "name": "stdout",
     "text": "Ground Truth 2\nimage.shape torch.Size([64, 1, 28, 28]) \n"
    },
    {
     "output_type": "display_data",
     "data": {
      "text/plain": "<Figure size 432x288 with 1 Axes>",
      "image/svg+xml": "<?xml version=\"1.0\" encoding=\"utf-8\" standalone=\"no\"?>\n<!DOCTYPE svg PUBLIC \"-//W3C//DTD SVG 1.1//EN\"\n  \"http://www.w3.org/Graphics/SVG/1.1/DTD/svg11.dtd\">\n<!-- Created with matplotlib (https://matplotlib.org/) -->\n<svg height=\"231.84pt\" version=\"1.1\" viewBox=\"0 0 231.84 231.84\" width=\"231.84pt\" xmlns=\"http://www.w3.org/2000/svg\" xmlns:xlink=\"http://www.w3.org/1999/xlink\">\n <defs>\n  <style type=\"text/css\">\n*{stroke-linecap:butt;stroke-linejoin:round;}\n  </style>\n </defs>\n <g id=\"figure_1\">\n  <g id=\"patch_1\">\n   <path d=\"M 0 231.84 \nL 231.84 231.84 \nL 231.84 0 \nL 0 0 \nz\n\" style=\"fill:none;\"/>\n  </g>\n  <g id=\"axes_1\">\n   <g id=\"patch_2\">\n    <path d=\"M 7.2 224.64 \nL 224.64 224.64 \nL 224.64 7.2 \nL 7.2 7.2 \nz\n\" style=\"fill:#ffffff;\"/>\n   </g>\n   <g clip-path=\"url(#pe0bf7464f5)\">\n    <image height=\"218\" id=\"image05037f9b50\" transform=\"scale(1 -1)translate(0 -218)\" width=\"218\" x=\"7.2\" xlink:href=\"data:image/png;base64,\niVBORw0KGgoAAAANSUhEUgAAANoAAADaCAYAAADAHVzbAAAABHNCSVQICAgIfAhkiAAACu5JREFUeJzt3UlzXGcVxvG350mtqWXZbDysbCrG2aTYZOVUWALfj8r3IDtIGXZklUUg2CblVGEcS+pJPaknduze59gW/VwF/r/tqau+avnxrbqnznlLTz99sk0FOdg/kPVe71jWt9v8rf/j++8/5JZwgz16+FDW6/W6rD9/8ULWp9Ppe9/Tuyrv7CcD+A+CBhgQNMCAoAEGBA0wIGiAAUEDDKpFfvhvf/NrWT86OpL12WyWrf3uiy8+6J5wc3329DNZb7dast477sn6H7764/ve0jvjiQYYEDTAgKABBgQNMCBogAFBAwwIGmBQaB9tPl/I+mQyMd0Jfgq2m42sj8djWd/f7/43b+e98EQDDAgaYEDQAAOCBhgQNMCAoAEGhb7e32zWsj4cjmT9/r27H/zZv3j8WNZ/9fnnsv7q1StZr1bzX+3BgV6zt1nr19hqzV5KKZVKJVlfrpb5zw5eoUctl15Pj6L0+/1s7fdffimv3Wz1vU1nel1co9GQ9V3iiQYYEDTAgKABBgQNMCBogAFBAwwIGmBQaB9tfHkp6ye9k5199smJ/tnbje5VHR/rI6VUL6tSrshry6Xg/z/dJgv7aNVa/s8eXbvX2bvWZ9+9m+99Vir6n2OrqdfJLRZXsn5+/k9Z3yWeaIABQQMMCBpgQNAAA4IGGBA0wICgAQbF9tGC9WBRz0bpdvVqsYuLC1mP7m211rN0NTGPFs3ZpaR7ePV6XdZXK31vy2W+39TpdIJrV7Jer9dkvT8YZGuHR4fy2uh7aQbzZqWoP7lDPNEAA4IGGBA0wICgAQYEDTAgaIABQQMMCu2jNeq673F0GPVV8prNpqyfnZ3JervTlvXXr1/LeqOR//xyWc9s1Wv6e1F7Gd/l5+/t5fuT0cxXf5Hfy5hSSouF7nW9efOvbG210j26Wk336IYj3ftcLvX3tks80QADggYYEDTAgKABBgQNMCBogAFBAwwKPh9Nn3c1X8w/+GcfBmeQDUd6Jqxe0zNfkctJfmdlp617dFdXej9huaL/f4zOT5vP89/r1VXUo9OffevWLVlfizm+1g8/yGsjNbGvsmg80QADggYYEDTAgKABBgQNMCBogEGh70OvxNqzlOK1amrs4f69+/LaZ3/+k6yv1tcb2ej1evmfHYyD9Pv5lWwpxUdGzWYzWW+18mM46vV7SvG9R6Moas1fJWgdRBaLhay3WnoEaJd4ogEGBA0wIGiAAUEDDAgaYEDQAAOCBhgU2keLjghaB8cPqWN4bt8+lddG/Z5qRX810SiK6hcdHOg1epVKRdan08m1rldjOFVx3FRKKQW/tjyuKiV9HFbUH4w+exmM+BSJJxpgQNAAA4IGGBA0wICgAQYEDTAgaIBBoX20suiDpZRSKZhPGl/mezKHQa+qGvSaotmmcllfr2afopmuSNRPiux397O1c9H/Syk+EqocfK9qzq93mJ/hexcdcRxVSimdX5xf6+dfB080wICgAQYEDTAgaIABQQMMCBpgQNAAg0L7aJOJnqva29PzauNRvo92EBzbtLfXlfVoXq1U0v2k+Sx/NNI26UZY1KtqNPS+y2gebSaObWq39e7DzVoftRXNEE4m02ztwf0H8tpo12b0N4uOpNolnmiAAUEDDAgaYEDQAAOCBhgQNMCg0Nf7m41+FTwcDmVdHZ1UDl6/d7v69f5mq19jR6/gW818a2Id/N7RK/LFQh93Va1++Lq56KisaM1edJyVurfo2misKmp7RP/edoknGmBA0AADggYYEDTAgKABBgQNMCBogEGhfbRB0CdTa9FSSulqqftJStRzWS71SEY0cqHWzakxlZTifk+z2ZR1NaKTkl6V12nr0aT+oC/rg8FA1lX/slKJ1gteynqn05b1fnBvu8QTDTAgaIABQQMMCBpgQNAAA4IGGBA0wKDQPlq1qj++FMx8KZtgbur4+Fh/dvDRjWBu6+3bt9laOTiOai84fijqk1Vr+nvdbPKzdtFKt0a9IevRGr5mI3/9Xkf/3tEcX7Wif281h7drPNEAA4IGGBA0wICgAQYEDTAgaIABQQMMCu2jXVxcyHrUs1nMF9latBvxYF/PukXHEy1Xeh7t6OgoW4uOVRoOR7IezV1Fxxfpa4M5vGAGsBUc+6Rm4VLQu4z+JlEPUPUPd40nGmBA0AADggYYEDTAgKABBgQNMCBogEGhfbTFIt8HSyml1SrarZjv6bSDXlMpOGsrmoWr1/Q82mw6y9babX1v0Tlh4/FY1nvHPVm/nEyytehstdXqejNfrVZ+J2V0/tl0NpX16Hu7Tn/xuniiAQYEDTAgaIABQQMMCBpgQNAAg0Jf79eDlW2V4FVzSaxti14V3z49lfX1Wo/ZRNS9b7Z6XKPZ1ONB62AcZDTWYzbq2KeopbIJvpfoDXqvd5Kt1YI1eXLEJqXU6egjp6LfbZd4ogEGBA0wIGiAAUEDDAgaYEDQAAOCBhgUu26u35f1+VwfT6T6SdFqsaPj/Dq4lFIaDIayHo341MXIRrQ2bTAYyHpDHH2UUkrdblfWt+JIq6jXVKvrUZTo+pPeYf7aoD+o7juleAxmfHkp67vEEw0wIGiAAUEDDAgaYEDQAAOCBhgQNMCg0D5a1CeL5tVUWyXqqZTX+v+Y66xNSymlzSZ/c+NgXuzOnTuyPujrPls0S6d+t7KY8UspPnIqun5xle8/Rj87WicXzS9G/cld4okGGBA0wICgAQYEDTAgaIABQQMMCBpgUGgfLRIdT1QVfZdyRf8fEs2blUr62Ka4z9bK1k6DnZJRnywF9xb1ENW9ByNfqdvdk/WoV7UV/cVm2JvU/cHr7uLcJZ5ogAFBAwwIGmBA0AADggYYEDTAgKABBje6j7YO9h+q89GivYvR/sGD/X1Zvwp6VcNhvk8X9Xuic75KSffR1kG/qVHP74VU32l0bUrxzkk1c7a80t9ppaL/uepvpVg80QADggYYEDTAgKABBgQNMCBogMGNfr1/fn4m62otW/yqWK8mu5xMZD2iVuVFR0otl7r1EI3wVIO1a+q7iVa29YMxmEownqTuPfq9asHfbDwu7limCE80wICgAQYEDTAgaIABQQMMCBpgQNAAgxvdRzs7P5f1O7fzfbRoVCQlvVet3WrL+mSq+2zlUv6IoWZbr1WLRnhGI72G7/T0lqwPr/IjPNEYTHRvq2AESP1dovGhek0f4/X2TPddi8QTDTAgaIABQQMMCBpgQNAAA4IGGBA0wOBG99G++eYbWf/5o0fZ2jY4f0jNi6WU0iSaRwtmp9Zi5mw6ncpr1ZFP7/DRaTQayXo0c6bM5nNZr9fz/cOU9JFR0Zxes6n7j9/+9VtZLxJPNMCAoAEGBA0wIGiAAUEDDAgaYEDQAIMb3UeLdiu++fHHbO3Bvfvy2tU6mKsK5q6iI6U2Yu4q6vFF82bVqv6zRXXVr4rm+Mpl3cSL9mWqY52i3uZ5MJ/49+fPZb1IPNEAA4IGGBA0wICgAQYEDTAgaIBB6emnT/S75p+on4kjnVJK6eMnH8v6448+utbnj8b5UZVopVuzqetBdyAco1GiY5kODw5lfR6M0UzEiNDLly/ktV89eybrNxlPNMCAoAEGBA0wIGiAAUEDDAgaYEDQAIP/2T7art27d0/Wf/nJJ9lav697VS9evpT10Sh/7FJKKTWCtWyqx/jo4UN57d+++07W//L117L+/4onGmBA0AADggYYEDTAgKABBgQNMCBogMG/AU9R8GfRtO2uAAAAAElFTkSuQmCC\" y=\"-6.64\"/>\n   </g>\n   <g id=\"matplotlib.axis_1\">\n    <g id=\"xtick_1\">\n     <g id=\"line2d_1\"/>\n    </g>\n    <g id=\"xtick_2\">\n     <g id=\"line2d_2\"/>\n    </g>\n    <g id=\"xtick_3\">\n     <g id=\"line2d_3\"/>\n    </g>\n    <g id=\"xtick_4\">\n     <g id=\"line2d_4\"/>\n    </g>\n    <g id=\"xtick_5\">\n     <g id=\"line2d_5\"/>\n    </g>\n    <g id=\"xtick_6\">\n     <g id=\"line2d_6\"/>\n    </g>\n   </g>\n   <g id=\"matplotlib.axis_2\">\n    <g id=\"ytick_1\">\n     <g id=\"line2d_7\"/>\n    </g>\n    <g id=\"ytick_2\">\n     <g id=\"line2d_8\"/>\n    </g>\n    <g id=\"ytick_3\">\n     <g id=\"line2d_9\"/>\n    </g>\n    <g id=\"ytick_4\">\n     <g id=\"line2d_10\"/>\n    </g>\n    <g id=\"ytick_5\">\n     <g id=\"line2d_11\"/>\n    </g>\n    <g id=\"ytick_6\">\n     <g id=\"line2d_12\"/>\n    </g>\n   </g>\n  </g>\n </g>\n <defs>\n  <clipPath id=\"pe0bf7464f5\">\n   <rect height=\"217.44\" width=\"217.44\" x=\"7.2\" y=\"7.2\"/>\n  </clipPath>\n </defs>\n</svg>\n",
      "image/png": "[encoded data removed]"
     },
     "metadata": {
      "needs_background": "light"
     }
    }
   ],
   "source": [
    "image, label = next(iter(trainloader))\n",
    "helper.imshow(image[0,:]);\n",
    "print(\"Ground Truth {}\".format(label[0]))\n",
    "# GK: label is numeric\n",
    "print(\"image.shape {} \".format(image.shape))"
   ]
  },
  {
   "cell_type": "markdown",
   "metadata": {},
   "source": [
    "## Building the network\n",
    "\n",
    "Here you should define your network. As with MNIST, each image is 28x28 which is a total of 784 pixels, and there are 10 classes. You should include at least one hidden layer. We suggest you use ReLU activations for the layers and to return the logits or log-softmax from the forward pass. It's up to you how many layers you add and the size of those layers."
   ]
  },
  {
   "cell_type": "code",
   "execution_count": 22,
   "metadata": {},
   "outputs": [
    {
     "output_type": "stream",
     "name": "stdout",
     "text": "tensor(2.3010, grad_fn=<NllLossBackward>)\n"
    }
   ],
   "source": [
    "# TODO: Define your network architecture here\n",
    "# Build a feed-forward network\n",
    "model = nn.Sequential(nn.Linear(784, 128),\n",
    "                      nn.ReLU(),\n",
    "                      nn.Linear(128, 64),\n",
    "                      nn.ReLU(),\n",
    "                      nn.Linear(64, 10),\n",
    "                      nn.LogSoftmax(dim=1))\n",
    "\n",
    "# Define the loss\n",
    "criterion = nn.NLLLoss()\n",
    "\n",
    "# Get our data\n",
    "images, labels = next(iter(trainloader))\n",
    "# Flatten images\n",
    "images = images.view(images.shape[0], -1)\n",
    "\n",
    "# Forward pass, get our logits\n",
    "logits = model(images)\n",
    "# Calculate the loss with the logits and the labels\n",
    "loss = criterion(logits, labels)\n",
    "\n",
    "print(loss)"
   ]
  },
  {
   "cell_type": "markdown",
   "metadata": {},
   "source": [
    "# Train the network\n",
    "\n",
    "Now you should create your network and train it. First you'll want to define [the criterion](http://pytorch.org/docs/master/nn.html#loss-functions) ( something like `nn.CrossEntropyLoss`) and [the optimizer](http://pytorch.org/docs/master/optim.html) (typically `optim.SGD` or `optim.Adam`).\n",
    "\n",
    "Then write the training code. Remember the training pass is a fairly straightforward process:\n",
    "\n",
    "* Make a forward pass through the network to get the logits \n",
    "* Use the logits to calculate the loss\n",
    "* Perform a backward pass through the network with `loss.backward()` to calculate the gradients\n",
    "* Take a step with the optimizer to update the weights\n",
    "\n",
    "By adjusting the hyperparameters (hidden units, learning rate, etc), you should be able to get the training loss below 0.4."
   ]
  },
  {
   "cell_type": "code",
   "execution_count": 27,
   "metadata": {},
   "outputs": [
    {
     "output_type": "stream",
     "name": "stdout",
     "text": "Training loss: 0.8373176635646108\nTraining loss: 0.5007033602737668\nTraining loss: 0.4504682038511549\nTraining loss: 0.4212429898538823\nTraining loss: 0.3991350922376108\n"
    }
   ],
   "source": [
    "# TODO: Create the network, define the criterion and optimizer\n",
    "from torch import optim\n",
    "\n",
    "model = nn.Sequential(nn.Linear(784, 128),\n",
    "                      nn.ReLU(),\n",
    "                      nn.Linear(128, 64),\n",
    "                      nn.ReLU(),\n",
    "                      nn.Linear(64, 10),\n",
    "                      nn.LogSoftmax(dim=1))\n",
    "\n",
    "criterion = nn.NLLLoss()\n",
    "optimizer = optim.SGD(model.parameters(), lr=0.017)\n",
    "\n",
    "epochs = 5\n",
    "for e in range(epochs):\n",
    "    running_loss = 0\n",
    "    for images, labels in trainloader:\n",
    "        # Flatten MNIST images into a 784 long vector\n",
    "        images = images.view(images.shape[0], -1)\n",
    "    \n",
    "        # TODO: Training pass\n",
    "        optimizer.zero_grad()\n",
    "        # output.shape: 64x10\n",
    "        output = model(images)\n",
    "        loss = criterion(output, labels)\n",
    "        loss.backward()\n",
    "        optimizer.step()\n",
    "        \n",
    "        running_loss += loss.item()\n",
    "    else:\n",
    "        print(f\"Training loss: {running_loss/len(trainloader)}\")"
   ]
  },
  {
   "cell_type": "code",
   "execution_count": null,
   "metadata": {},
   "outputs": [],
   "source": [
    "# TODO: Train the network here\n"
   ]
  },
  {
   "cell_type": "code",
   "execution_count": 39,
   "metadata": {},
   "outputs": [
    {
     "output_type": "display_data",
     "data": {
      "text/plain": "<Figure size 432x648 with 2 Axes>",
      "image/png": "[encoded data removed]"
     },
     "metadata": {
      "image/png": {
       "width": 424,
       "height": 216
      },
      "needs_background": "light"
     }
    }
   ],
   "source": [
    "%matplotlib inline\n",
    "%config InlineBackend.figure_format = 'retina'\n",
    "\n",
    "import helper\n",
    "\n",
    "# Test out your network!\n",
    "\n",
    "dataiter = iter(testloader)\n",
    "images, labels = dataiter.next()\n",
    "img = images[0]\n",
    "# Convert 2D image to 1D vector\n",
    "img = img.resize_(1, 784)\n",
    "\n",
    "# TODO: Calculate the class probabilities (softmax) for img\n",
    "ps = torch.exp(model(img))\n",
    "# print(ps)\n",
    "\n",
    "# Plot the image and probabilities\n",
    "helper.view_classify(img.resize_(1, 28, 28), ps, version='Fashion')"
   ]
  },
  {
   "cell_type": "code",
   "execution_count": null,
   "metadata": {},
   "outputs": [],
   "source": []
  }
 ],
 "metadata": {
  "kernelspec": {
   "display_name": "Python 3",
   "language": "python",
   "name": "python3"
  },
  "language_info": {
   "codemirror_mode": {
    "name": "ipython",
    "version": 3
   },
   "file_extension": ".py",
   "mimetype": "text/x-python",
   "name": "python",
   "nbconvert_exporter": "python",
   "pygments_lexer": "ipython3",
   "version": "3.7.4-final"
  }
 },
 "nbformat": 4,
 "nbformat_minor": 2
}